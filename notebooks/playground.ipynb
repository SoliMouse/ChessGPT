{
 "cells": [
  {
   "cell_type": "code",
   "execution_count": 1,
   "metadata": {},
   "outputs": [],
   "source": [
    "model_name = 'gpt-3.5-turbo'\n",
    "sm = '''Hello Magnus, \n",
    "given the current chessboard position in FEN format: {board_state}, please analyze the board and explain the strategic rationale behind your suggested move for white. \n",
    "After your explanation, provide the strong move you recommend in algebraic notation, enclosed in <move> tags. \n",
    "Ensure your response is concise and well-structured.\n",
    "'''"
   ]
  },
  {
   "cell_type": "code",
   "execution_count": 30,
   "metadata": {},
   "outputs": [],
   "source": [
    "board_state = 'rnbqkbnr/pppppppp/8/8/8/8/PPPPPPPP/RNBQKBNR w KQkq - 0 1'\n",
    "possible_moves = ['a3', 'a4', 'b3', 'b4', 'c3', 'c4', 'd3', 'd4', 'e3', 'e4', 'f3', 'f4', 'g3', 'g4', 'h3', 'h4', 'Na3', 'Nc3', 'Nf3', 'Nh3']\n",
    "possible_moves = ', '.join(possible_moves)"
   ]
  },
  {
   "cell_type": "code",
   "execution_count": 31,
   "metadata": {},
   "outputs": [],
   "source": [
    "import os \n",
    "from langchain.chains import LLMChain\n",
    "from langchain.chat_models import ChatOpenAI\n",
    "from langchain.prompts import (\n",
    "    SystemMessagePromptTemplate,\n",
    "    AIMessagePromptTemplate,\n",
    "    ChatPromptTemplate,\n",
    ")\n",
    "\n",
    "# Feed the tweets to the prompts and run the chain\n",
    "os.environ[\"OPENAI_API_KEY\"] = os.getenv(\"OPENAI_API_KEY\")\n",
    "\n",
    "sm_prompt = SystemMessagePromptTemplate.from_template(sm)\n",
    "# Initialize the ChatPromptTemplate with the three prompts\n",
    "chat_prompt = ChatPromptTemplate.from_messages([sm_prompt])\n",
    "# Initialize the LLMChain with the ChatOpenAI model and the ChatPromptTemplate\n",
    "llm = ChatOpenAI(model_name=model_name, temperature=0.0, top_p=1)\n",
    "chain = LLMChain(llm=llm, prompt=chat_prompt)\n"
   ]
  },
  {
   "cell_type": "code",
   "execution_count": 32,
   "metadata": {},
   "outputs": [
    {
     "name": "stdout",
     "output_type": "stream",
     "text": [
      "System: As Magnus, an AI chess assistant, utilize the R.E.A.C.T. technique (Reflect, Evaluate, Act, Observe, Iterate) for two iterations to find the optimal move based on the given board state in FEN notation. In each iteration:\n",
      "\n",
      "Reflect: Analyze the board state, piece positions, threats, and opportunities.\n",
      "Evaluate: Identify the best moves using tactics, strategies, and renowned chess players' playstyles.\n",
      "Act: Choose and apply the optimal move, updating the board state in FEN notation.\n",
      "Observe: Examine the new board state, assessing strengths, weaknesses, and potential outcomes.\n",
      "Iterate: Refine your move selection if necessary, using new insights and observations.\n",
      "After two R.E.A.C.T. cycles, present your analysis step-by-step. Emphasize the output format, specifically the <move> and <state> tags:\n",
      "\n",
      "Input: rnbqkbnr/pppppppp/8/8/8/8/PPPPPPPP/RNBQKBNR w KQkq - 0 1\n",
      "Possible Moves: a3, a4, b3, b4, c3, c4, d3, d4, e3, e4, f3, f4, g3, g4, h3, h4, Na3, Nc3, Nf3, Nh3\n",
      "Example Output:\n",
      "First Iteration:\n",
      "...\n",
      "Second Iteration:\n",
      "...\n",
      "Final Move: <move>e5</move>\n",
      "Final State: <state>rnbqkbnr/p1pppppp/8/1p6/4P3/8/PPPP1PPP/RNBQKBNR w KQkq - 0 2</state>\n",
      "\n"
     ]
    }
   ],
   "source": [
    "print(chat_prompt.format(board_state=board_state, possible_moves=possible_moves))"
   ]
  },
  {
   "cell_type": "code",
   "execution_count": 33,
   "metadata": {},
   "outputs": [
    {
     "name": "stdout",
     "output_type": "stream",
     "text": [
      "First Iteration:\n",
      "Reflect: \n",
      "- White has the advantage of the first move.\n",
      "- The center is currently open, and both sides have equal control over it.\n",
      "- Black's pawn on d5 is currently undefended.\n",
      "- White's knight on g1 is not developed yet.\n",
      "- Black's king is currently safe, but can be vulnerable if the center opens up.\n",
      "\n",
      "Evaluate:\n",
      "- Developing the knight with Nf3 or Nh3 can control the center and prepare for castling.\n",
      "- Pushing e4 can gain more control over the center and attack Black's pawn on d5.\n",
      "- Pushing d4 can also gain more control over the center and attack Black's pawn on d5.\n",
      "- Castling kingside can improve White's king safety.\n",
      "\n",
      "Act:\n",
      "Based on the evaluation, I will choose to push e4 to gain more control over the center and attack Black's pawn on d5.\n",
      "\n",
      "New State: rnbqkbnr/pppppppp/8/8/4P3/8/PPPP1PPP/RNBQKBNR b KQkq - 0 1\n",
      "\n",
      "Observe:\n",
      "- White now has more control over the center.\n",
      "- Black's pawn on d5 is now under attack.\n",
      "- White's pawn on e4 is now vulnerable to attack from Black's pawn on e5.\n",
      "\n",
      "Iterate:\n",
      "- It is important to consider Black's potential response to e4, such as pushing e5 to attack White's pawn.\n",
      "\n",
      "Second Iteration:\n",
      "Reflect:\n",
      "- Black's pawn on e5 is now attacking White's pawn on e4.\n",
      "- White's knight on g1 is still not developed yet.\n",
      "- Black's queen can potentially move to c7 or b6 to put pressure on White's pawn on e4.\n",
      "\n",
      "Evaluate:\n",
      "- Developing the knight with Nf3 or Nh3 can control the center and prepare for castling.\n",
      "- Pushing d4 can gain more control over the center and defend White's pawn on e4.\n",
      "- Pushing f3 can defend White's pawn on e4 and prepare to develop the knight on g1.\n",
      "- Moving the queen to d3 can defend White's pawn on e4 and prepare to castle kingside.\n",
      "\n",
      "Act:\n",
      "Based on the evaluation, I will choose to push f3 to defend White's pawn on e4 and prepare to develop the knight on g1.\n",
      "\n",
      "New State: rnbqkbnr/pppppppp/8/8/4P3/5P2/PPPP2PP/RNBQKBNR b KQkq - 0 1\n",
      "\n",
      "Observe:\n",
      "- White's pawn on e4 is now defended.\n",
      "- White's knight on g1 can potentially develop to f3 or h3.\n",
      "- Black's pawn on e5 is still attacking White's pawn on e4.\n",
      "\n",
      "Iterate:\n",
      "- It is important to consider Black's potential response to f3, such as pushing e5 to attack White's pawn again.\n",
      "\n",
      "Final Move: <move>e5</move>\n",
      "Final State: <state>rnbqkbnr/p1pp1ppp/8/1p6/4P3/5P2/PPPP2PP/RNBQKBNR w KQkq - 0 2</state>\n"
     ]
    }
   ],
   "source": [
    "amm = chain.run(board_state=board_state, possible_moves=possible_moves)\n",
    "amm_prompt = AIMessagePromptTemplate.from_template(amm)\n",
    "print(amm)"
   ]
  },
  {
   "cell_type": "code",
   "execution_count": 16,
   "metadata": {},
   "outputs": [],
   "source": [
    "import re \n",
    "move = re.search(r'<move>(.*?)<\\/move>', amm).group(1)\n",
    "final = re.search(r'<state>(.*?)<\\/state>', amm).group(1)"
   ]
  },
  {
   "cell_type": "code",
   "execution_count": 17,
   "metadata": {},
   "outputs": [
    {
     "data": {
      "text/plain": [
       "('Bd3', 'rnbqkb1r/pppppppp/8/8/3Pn3/2N2N2/PPP1PPPP/R1BQKB1R b KQkq - 2 1')"
      ]
     },
     "execution_count": 17,
     "metadata": {},
     "output_type": "execute_result"
    }
   ],
   "source": [
    "move, final"
   ]
  },
  {
   "cell_type": "code",
   "execution_count": null,
   "metadata": {},
   "outputs": [],
   "source": []
  }
 ],
 "metadata": {
  "kernelspec": {
   "display_name": "env",
   "language": "python",
   "name": "python3"
  },
  "language_info": {
   "codemirror_mode": {
    "name": "ipython",
    "version": 3
   },
   "file_extension": ".py",
   "mimetype": "text/x-python",
   "name": "python",
   "nbconvert_exporter": "python",
   "pygments_lexer": "ipython3",
   "version": "3.10.10"
  },
  "orig_nbformat": 4,
  "vscode": {
   "interpreter": {
    "hash": "33d06d106391211f8105d542c7640dec154fb92823509f7b8bf55eb5f902a6f0"
   }
  }
 },
 "nbformat": 4,
 "nbformat_minor": 2
}
